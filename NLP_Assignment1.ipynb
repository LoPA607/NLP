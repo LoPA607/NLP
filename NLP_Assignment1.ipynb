{
  "nbformat": 4,
  "nbformat_minor": 0,
  "metadata": {
    "colab": {
      "provenance": [],
      "authorship_tag": "ABX9TyMfwcITXeSa+8biMReoRmp3",
      "include_colab_link": true
    },
    "kernelspec": {
      "name": "python3",
      "display_name": "Python 3"
    },
    "language_info": {
      "name": "python"
    }
  },
  "cells": [
    {
      "cell_type": "markdown",
      "metadata": {
        "id": "view-in-github",
        "colab_type": "text"
      },
      "source": [
        "<a href=\"https://colab.research.google.com/github/LoPA607/NLP/blob/main/NLP_Assignment1.ipynb\" target=\"_parent\"><img src=\"https://colab.research.google.com/assets/colab-badge.svg\" alt=\"Open In Colab\"/></a>"
      ]
    },
    {
      "cell_type": "markdown",
      "source": [
        "### Lowercasing"
      ],
      "metadata": {
        "id": "nPGQ4kF8P5PR"
      }
    },
    {
      "cell_type": "code",
      "source": [
        "text=\"Essay on My Mother: Someone has rightly said, that God can’t be everywhere, so he created Mothers. A mother is the first home, the first person to bring us to the world. Our parents are the most selfless people in the world. In the first school, the first teacher is always a mother who is the one who plays a major role in our upbringing. <html><body><p> Movie 1</p><p> Actor - Aamir Khan</p><p> Click here to <a href='http://google.com'>download</a></p></body></html>\\n Check out my notebook https://www.kaggle.com/campusx/notebook8223fc1abb\"\n",
        "lowercased_text = text.lower()\n",
        "\n",
        "print(lowercased_text)"
      ],
      "metadata": {
        "colab": {
          "base_uri": "https://localhost:8080/"
        },
        "id": "51U78vfpP-rn",
        "outputId": "fc032ac3-5ca6-4baf-e59a-0c80656d612d"
      },
      "execution_count": 61,
      "outputs": [
        {
          "output_type": "stream",
          "name": "stdout",
          "text": [
            "essay on my mother: someone has rightly said, that god can’t be everywhere, so he created mothers. a mother is the first home, the first person to bring us to the world. our parents are the most selfless people in the world. in the first school, the first teacher is always a mother who is the one who plays a major role in our upbringing. <html><body><p> movie 1</p><p> actor - aamir khan</p><p> click here to <a href='http://google.com'>download</a></p></body></html>\n",
            " check out my notebook https://www.kaggle.com/campusx/notebook8223fc1abb\n"
          ]
        }
      ]
    },
    {
      "cell_type": "markdown",
      "source": [
        "### Removing Punctuation & Special Characters"
      ],
      "metadata": {
        "id": "6nBjqXvaSG7a"
      }
    },
    {
      "cell_type": "code",
      "source": [
        "import re\n",
        "punctuation_pattern = r'[^\\w\\s]'\n",
        "text_cleaned = re.sub(punctuation_pattern, '', text)\n",
        "print(text_cleaned)"
      ],
      "metadata": {
        "colab": {
          "base_uri": "https://localhost:8080/"
        },
        "id": "d0kHNjLNQtIL",
        "outputId": "da3438e9-4f47-4658-a079-7d8be88dcdcb"
      },
      "execution_count": 62,
      "outputs": [
        {
          "output_type": "stream",
          "name": "stdout",
          "text": [
            "Essay on My Mother Someone has rightly said that God cant be everywhere so he created Mothers A mother is the first home the first person to bring us to the world Our parents are the most selfless people in the world In the first school the first teacher is always a mother who is the one who plays a major role in our upbringing htmlbodyp Movie 1pp Actor  Aamir Khanpp Click here to a hrefhttpgooglecomdownloadapbodyhtml\n",
            " Check out my notebook httpswwwkagglecomcampusxnotebook8223fc1abb\n"
          ]
        }
      ]
    },
    {
      "cell_type": "markdown",
      "source": [
        "### Stop - Words Removal"
      ],
      "metadata": {
        "id": "aTrJl-w9WXEK"
      }
    },
    {
      "cell_type": "code",
      "source": [
        "import nltk\n",
        "nltk.download('stopwords')\n",
        "from nltk.corpus import stopwords\n",
        "\n",
        "# Remove stopwords function for any language\n",
        "def remove_stopwords(text, language):\n",
        "    stop_words = set(stopwords.words(language))\n",
        "    word_tokens = text.split()\n",
        "    filtered_text = [word for word in word_tokens if word not in stop_words]\n",
        "    print(f\"Language: {language}\")\n",
        "    print(\"Filtered Text:\", filtered_text)\n",
        "\n",
        "remove_stopwords(text, 'english')"
      ],
      "metadata": {
        "colab": {
          "base_uri": "https://localhost:8080/"
        },
        "id": "MTiJ6lx-S0I8",
        "outputId": "1c47a9f6-645f-4023-a4e5-d55bc4d0ce4e"
      },
      "execution_count": 63,
      "outputs": [
        {
          "output_type": "stream",
          "name": "stdout",
          "text": [
            "Language: english\n",
            "Filtered Text: ['Essay', 'My', 'Mother:', 'Someone', 'rightly', 'said,', 'God', 'can’t', 'everywhere,', 'created', 'Mothers.', 'A', 'mother', 'first', 'home,', 'first', 'person', 'bring', 'us', 'world.', 'Our', 'parents', 'selfless', 'people', 'world.', 'In', 'first', 'school,', 'first', 'teacher', 'always', 'mother', 'one', 'plays', 'major', 'role', 'upbringing.', '<html><body><p>', 'Movie', '1</p><p>', 'Actor', '-', 'Aamir', 'Khan</p><p>', 'Click', '<a', \"href='http://google.com'>download</a></p></body></html>\", 'Check', 'notebook', 'https://www.kaggle.com/campusx/notebook8223fc1abb']\n"
          ]
        },
        {
          "output_type": "stream",
          "name": "stderr",
          "text": [
            "[nltk_data] Downloading package stopwords to /root/nltk_data...\n",
            "[nltk_data]   Package stopwords is already up-to-date!\n"
          ]
        }
      ]
    },
    {
      "cell_type": "code",
      "source": [
        "remove_stopwords(text_cleaned,'english')"
      ],
      "metadata": {
        "colab": {
          "base_uri": "https://localhost:8080/"
        },
        "id": "SR_q89U_XMto",
        "outputId": "aee40c3e-c633-4105-ea16-c5cd182f036b"
      },
      "execution_count": 64,
      "outputs": [
        {
          "output_type": "stream",
          "name": "stdout",
          "text": [
            "Language: english\n",
            "Filtered Text: ['Essay', 'My', 'Mother', 'Someone', 'rightly', 'said', 'God', 'cant', 'everywhere', 'created', 'Mothers', 'A', 'mother', 'first', 'home', 'first', 'person', 'bring', 'us', 'world', 'Our', 'parents', 'selfless', 'people', 'world', 'In', 'first', 'school', 'first', 'teacher', 'always', 'mother', 'one', 'plays', 'major', 'role', 'upbringing', 'htmlbodyp', 'Movie', '1pp', 'Actor', 'Aamir', 'Khanpp', 'Click', 'hrefhttpgooglecomdownloadapbodyhtml', 'Check', 'notebook', 'httpswwwkagglecomcampusxnotebook8223fc1abb']\n"
          ]
        }
      ]
    },
    {
      "cell_type": "markdown",
      "source": [
        "### Remove URL"
      ],
      "metadata": {
        "id": "Yi_a3OZEWdQZ"
      }
    },
    {
      "cell_type": "code",
      "source": [
        "def remove_urls(text):\n",
        "    url_pattern = re.compile(r'https?://\\S+|www\\.\\S+')\n",
        "    return url_pattern.sub(r'', text)\n",
        "without_url=remove_urls(text)"
      ],
      "metadata": {
        "id": "0vmTsjh-TH5d"
      },
      "execution_count": 65,
      "outputs": []
    },
    {
      "cell_type": "markdown",
      "source": [
        "### Removal of HTML Tags"
      ],
      "metadata": {
        "id": "MuZXBUzTUR90"
      }
    },
    {
      "cell_type": "code",
      "source": [
        "import re\n",
        "text2 = \"<html><body><p> Movie 1</p><p> Actor - Aamir Khan</p><p> Click here to <a href='http://google.com'>download</a></p></body></html>\"\n",
        "html_tags_pattern = r'<.*?>'\n",
        "text_without_html_tags = re.sub(html_tags_pattern, '', text)\n",
        "print(text_without_html_tags)"
      ],
      "metadata": {
        "colab": {
          "base_uri": "https://localhost:8080/"
        },
        "id": "phqF-tCLUQYn",
        "outputId": "13858cd0-c4ac-4340-b1e3-408a18d2cba5"
      },
      "execution_count": 66,
      "outputs": [
        {
          "output_type": "stream",
          "name": "stdout",
          "text": [
            "Essay on My Mother: Someone has rightly said, that God can’t be everywhere, so he created Mothers. A mother is the first home, the first person to bring us to the world. Our parents are the most selfless people in the world. In the first school, the first teacher is always a mother who is the one who plays a major role in our upbringing.  Movie 1 Actor - Aamir Khan Click here to download\n",
            " Check out my notebook https://www.kaggle.com/campusx/notebook8223fc1abb\n"
          ]
        }
      ]
    },
    {
      "cell_type": "code",
      "source": [
        "text_without_url_and_html=remove_urls(text_without_html_tags)\n",
        "print(text_without_url_and_html)"
      ],
      "metadata": {
        "colab": {
          "base_uri": "https://localhost:8080/"
        },
        "id": "3LVN-N04XmrB",
        "outputId": "d28ec13b-3c99-43d6-d83c-13e72171ac11"
      },
      "execution_count": 67,
      "outputs": [
        {
          "output_type": "stream",
          "name": "stdout",
          "text": [
            "Essay on My Mother: Someone has rightly said, that God can’t be everywhere, so he created Mothers. A mother is the first home, the first person to bring us to the world. Our parents are the most selfless people in the world. In the first school, the first teacher is always a mother who is the one who plays a major role in our upbringing.  Movie 1 Actor - Aamir Khan Click here to download\n",
            " Check out my notebook \n"
          ]
        }
      ]
    },
    {
      "cell_type": "markdown",
      "source": [
        "###  Stemming"
      ],
      "metadata": {
        "id": "Fjj4K51gUvHA"
      }
    },
    {
      "cell_type": "code",
      "source": [
        "from nltk.stem.porter import PorterStemmer\n",
        "\n",
        "stemmer = PorterStemmer()\n",
        "\n",
        "def stem_words(text):\n",
        "    word_tokens = text.split()\n",
        "    stems = [stemmer.stem(word) for word in word_tokens]\n",
        "    return stems\n",
        "\n",
        "stem_words(text)"
      ],
      "metadata": {
        "colab": {
          "base_uri": "https://localhost:8080/"
        },
        "id": "9mYHS0lHUNg1",
        "outputId": "abe242ae-e0ce-42c5-cc97-c1b0c85d50dc"
      },
      "execution_count": 68,
      "outputs": [
        {
          "output_type": "execute_result",
          "data": {
            "text/plain": [
              "['essay',\n",
              " 'on',\n",
              " 'my',\n",
              " 'mother:',\n",
              " 'someon',\n",
              " 'ha',\n",
              " 'rightli',\n",
              " 'said,',\n",
              " 'that',\n",
              " 'god',\n",
              " 'can’t',\n",
              " 'be',\n",
              " 'everywhere,',\n",
              " 'so',\n",
              " 'he',\n",
              " 'creat',\n",
              " 'mothers.',\n",
              " 'a',\n",
              " 'mother',\n",
              " 'is',\n",
              " 'the',\n",
              " 'first',\n",
              " 'home,',\n",
              " 'the',\n",
              " 'first',\n",
              " 'person',\n",
              " 'to',\n",
              " 'bring',\n",
              " 'us',\n",
              " 'to',\n",
              " 'the',\n",
              " 'world.',\n",
              " 'our',\n",
              " 'parent',\n",
              " 'are',\n",
              " 'the',\n",
              " 'most',\n",
              " 'selfless',\n",
              " 'peopl',\n",
              " 'in',\n",
              " 'the',\n",
              " 'world.',\n",
              " 'in',\n",
              " 'the',\n",
              " 'first',\n",
              " 'school,',\n",
              " 'the',\n",
              " 'first',\n",
              " 'teacher',\n",
              " 'is',\n",
              " 'alway',\n",
              " 'a',\n",
              " 'mother',\n",
              " 'who',\n",
              " 'is',\n",
              " 'the',\n",
              " 'one',\n",
              " 'who',\n",
              " 'play',\n",
              " 'a',\n",
              " 'major',\n",
              " 'role',\n",
              " 'in',\n",
              " 'our',\n",
              " 'upbringing.',\n",
              " '<html><body><p>',\n",
              " 'movi',\n",
              " '1</p><p>',\n",
              " 'actor',\n",
              " '-',\n",
              " 'aamir',\n",
              " 'khan</p><p>',\n",
              " 'click',\n",
              " 'here',\n",
              " 'to',\n",
              " '<a',\n",
              " \"href='http://google.com'>download</a></p></body></html>\",\n",
              " 'check',\n",
              " 'out',\n",
              " 'my',\n",
              " 'notebook',\n",
              " 'https://www.kaggle.com/campusx/notebook8223fc1abb']"
            ]
          },
          "metadata": {},
          "execution_count": 68
        }
      ]
    },
    {
      "cell_type": "code",
      "source": [
        "stem_words(text_without_url_and_html)"
      ],
      "metadata": {
        "colab": {
          "base_uri": "https://localhost:8080/"
        },
        "id": "GEdTGgdZX1rm",
        "outputId": "4d0b899a-507a-415c-80bd-dc18787de47c"
      },
      "execution_count": 69,
      "outputs": [
        {
          "output_type": "execute_result",
          "data": {
            "text/plain": [
              "['essay',\n",
              " 'on',\n",
              " 'my',\n",
              " 'mother:',\n",
              " 'someon',\n",
              " 'ha',\n",
              " 'rightli',\n",
              " 'said,',\n",
              " 'that',\n",
              " 'god',\n",
              " 'can’t',\n",
              " 'be',\n",
              " 'everywhere,',\n",
              " 'so',\n",
              " 'he',\n",
              " 'creat',\n",
              " 'mothers.',\n",
              " 'a',\n",
              " 'mother',\n",
              " 'is',\n",
              " 'the',\n",
              " 'first',\n",
              " 'home,',\n",
              " 'the',\n",
              " 'first',\n",
              " 'person',\n",
              " 'to',\n",
              " 'bring',\n",
              " 'us',\n",
              " 'to',\n",
              " 'the',\n",
              " 'world.',\n",
              " 'our',\n",
              " 'parent',\n",
              " 'are',\n",
              " 'the',\n",
              " 'most',\n",
              " 'selfless',\n",
              " 'peopl',\n",
              " 'in',\n",
              " 'the',\n",
              " 'world.',\n",
              " 'in',\n",
              " 'the',\n",
              " 'first',\n",
              " 'school,',\n",
              " 'the',\n",
              " 'first',\n",
              " 'teacher',\n",
              " 'is',\n",
              " 'alway',\n",
              " 'a',\n",
              " 'mother',\n",
              " 'who',\n",
              " 'is',\n",
              " 'the',\n",
              " 'one',\n",
              " 'who',\n",
              " 'play',\n",
              " 'a',\n",
              " 'major',\n",
              " 'role',\n",
              " 'in',\n",
              " 'our',\n",
              " 'upbringing.',\n",
              " 'movi',\n",
              " '1',\n",
              " 'actor',\n",
              " '-',\n",
              " 'aamir',\n",
              " 'khan',\n",
              " 'click',\n",
              " 'here',\n",
              " 'to',\n",
              " 'download',\n",
              " 'check',\n",
              " 'out',\n",
              " 'my',\n",
              " 'notebook']"
            ]
          },
          "metadata": {},
          "execution_count": 69
        }
      ]
    },
    {
      "cell_type": "markdown",
      "source": [
        "### Lemmatization\n"
      ],
      "metadata": {
        "id": "GJGe7WcZWhUF"
      }
    },
    {
      "cell_type": "code",
      "source": [
        "!pip install nltk\n",
        "import nltk\n",
        "nltk.download('wordnet')\n",
        "\n",
        "from nltk.stem import WordNetLemmatizer\n",
        "\n",
        "lemmatizer = WordNetLemmatizer()\n",
        "\n",
        "def lemmatize_word(text):\n",
        "    word_tokens = text.split()\n",
        "    lemmas = [lemmatizer.lemmatize(word, pos ='v') for word in word_tokens]\n",
        "    return lemmas\n",
        "\n",
        "lemmatize_word(text)"
      ],
      "metadata": {
        "colab": {
          "base_uri": "https://localhost:8080/"
        },
        "id": "Wz9FI97_Us8g",
        "outputId": "559fc629-a7b9-4b3d-f523-97885a9375c5"
      },
      "execution_count": 70,
      "outputs": [
        {
          "output_type": "stream",
          "name": "stdout",
          "text": [
            "Requirement already satisfied: nltk in /usr/local/lib/python3.10/dist-packages (3.8.1)\n",
            "Requirement already satisfied: click in /usr/local/lib/python3.10/dist-packages (from nltk) (8.1.7)\n",
            "Requirement already satisfied: joblib in /usr/local/lib/python3.10/dist-packages (from nltk) (1.4.2)\n",
            "Requirement already satisfied: regex>=2021.8.3 in /usr/local/lib/python3.10/dist-packages (from nltk) (2024.9.11)\n",
            "Requirement already satisfied: tqdm in /usr/local/lib/python3.10/dist-packages (from nltk) (4.66.5)\n"
          ]
        },
        {
          "output_type": "stream",
          "name": "stderr",
          "text": [
            "[nltk_data] Downloading package wordnet to /root/nltk_data...\n",
            "[nltk_data]   Package wordnet is already up-to-date!\n"
          ]
        },
        {
          "output_type": "execute_result",
          "data": {
            "text/plain": [
              "['Essay',\n",
              " 'on',\n",
              " 'My',\n",
              " 'Mother:',\n",
              " 'Someone',\n",
              " 'have',\n",
              " 'rightly',\n",
              " 'said,',\n",
              " 'that',\n",
              " 'God',\n",
              " 'can’t',\n",
              " 'be',\n",
              " 'everywhere,',\n",
              " 'so',\n",
              " 'he',\n",
              " 'create',\n",
              " 'Mothers.',\n",
              " 'A',\n",
              " 'mother',\n",
              " 'be',\n",
              " 'the',\n",
              " 'first',\n",
              " 'home,',\n",
              " 'the',\n",
              " 'first',\n",
              " 'person',\n",
              " 'to',\n",
              " 'bring',\n",
              " 'us',\n",
              " 'to',\n",
              " 'the',\n",
              " 'world.',\n",
              " 'Our',\n",
              " 'parent',\n",
              " 'be',\n",
              " 'the',\n",
              " 'most',\n",
              " 'selfless',\n",
              " 'people',\n",
              " 'in',\n",
              " 'the',\n",
              " 'world.',\n",
              " 'In',\n",
              " 'the',\n",
              " 'first',\n",
              " 'school,',\n",
              " 'the',\n",
              " 'first',\n",
              " 'teacher',\n",
              " 'be',\n",
              " 'always',\n",
              " 'a',\n",
              " 'mother',\n",
              " 'who',\n",
              " 'be',\n",
              " 'the',\n",
              " 'one',\n",
              " 'who',\n",
              " 'play',\n",
              " 'a',\n",
              " 'major',\n",
              " 'role',\n",
              " 'in',\n",
              " 'our',\n",
              " 'upbringing.',\n",
              " '<html><body><p>',\n",
              " 'Movie',\n",
              " '1</p><p>',\n",
              " 'Actor',\n",
              " '-',\n",
              " 'Aamir',\n",
              " 'Khan</p><p>',\n",
              " 'Click',\n",
              " 'here',\n",
              " 'to',\n",
              " '<a',\n",
              " \"href='http://google.com'>download</a></p></body></html>\",\n",
              " 'Check',\n",
              " 'out',\n",
              " 'my',\n",
              " 'notebook',\n",
              " 'https://www.kaggle.com/campusx/notebook8223fc1abb']"
            ]
          },
          "metadata": {},
          "execution_count": 70
        }
      ]
    },
    {
      "cell_type": "code",
      "source": [
        "lemmatize_word(text_without_url_and_html)"
      ],
      "metadata": {
        "colab": {
          "base_uri": "https://localhost:8080/"
        },
        "id": "joAPJ3AiYuD4",
        "outputId": "ee2c368f-60a1-4a9f-b491-ea69ca90396a"
      },
      "execution_count": 71,
      "outputs": [
        {
          "output_type": "execute_result",
          "data": {
            "text/plain": [
              "['Essay',\n",
              " 'on',\n",
              " 'My',\n",
              " 'Mother:',\n",
              " 'Someone',\n",
              " 'have',\n",
              " 'rightly',\n",
              " 'said,',\n",
              " 'that',\n",
              " 'God',\n",
              " 'can’t',\n",
              " 'be',\n",
              " 'everywhere,',\n",
              " 'so',\n",
              " 'he',\n",
              " 'create',\n",
              " 'Mothers.',\n",
              " 'A',\n",
              " 'mother',\n",
              " 'be',\n",
              " 'the',\n",
              " 'first',\n",
              " 'home,',\n",
              " 'the',\n",
              " 'first',\n",
              " 'person',\n",
              " 'to',\n",
              " 'bring',\n",
              " 'us',\n",
              " 'to',\n",
              " 'the',\n",
              " 'world.',\n",
              " 'Our',\n",
              " 'parent',\n",
              " 'be',\n",
              " 'the',\n",
              " 'most',\n",
              " 'selfless',\n",
              " 'people',\n",
              " 'in',\n",
              " 'the',\n",
              " 'world.',\n",
              " 'In',\n",
              " 'the',\n",
              " 'first',\n",
              " 'school,',\n",
              " 'the',\n",
              " 'first',\n",
              " 'teacher',\n",
              " 'be',\n",
              " 'always',\n",
              " 'a',\n",
              " 'mother',\n",
              " 'who',\n",
              " 'be',\n",
              " 'the',\n",
              " 'one',\n",
              " 'who',\n",
              " 'play',\n",
              " 'a',\n",
              " 'major',\n",
              " 'role',\n",
              " 'in',\n",
              " 'our',\n",
              " 'upbringing.',\n",
              " 'Movie',\n",
              " '1',\n",
              " 'Actor',\n",
              " '-',\n",
              " 'Aamir',\n",
              " 'Khan',\n",
              " 'Click',\n",
              " 'here',\n",
              " 'to',\n",
              " 'download',\n",
              " 'Check',\n",
              " 'out',\n",
              " 'my',\n",
              " 'notebook']"
            ]
          },
          "metadata": {},
          "execution_count": 71
        }
      ]
    },
    {
      "cell_type": "markdown",
      "source": [
        "### Tokenise\n"
      ],
      "metadata": {
        "id": "zxiXOF5OY3ZF"
      }
    },
    {
      "cell_type": "code",
      "source": [
        "import nltk\n",
        "from nltk.tokenize import word_tokenize\n",
        "\n",
        "# Download the 'punkt' resource\n",
        "nltk.download('punkt')\n",
        "\n",
        "tokens = word_tokenize(text)\n",
        "print(tokens)"
      ],
      "metadata": {
        "colab": {
          "base_uri": "https://localhost:8080/"
        },
        "id": "dbwvebGrVs--",
        "outputId": "0360170d-713b-4c09-b636-6c79c416db99"
      },
      "execution_count": 72,
      "outputs": [
        {
          "output_type": "stream",
          "name": "stdout",
          "text": [
            "['Essay', 'on', 'My', 'Mother', ':', 'Someone', 'has', 'rightly', 'said', ',', 'that', 'God', 'can', '’', 't', 'be', 'everywhere', ',', 'so', 'he', 'created', 'Mothers', '.', 'A', 'mother', 'is', 'the', 'first', 'home', ',', 'the', 'first', 'person', 'to', 'bring', 'us', 'to', 'the', 'world', '.', 'Our', 'parents', 'are', 'the', 'most', 'selfless', 'people', 'in', 'the', 'world', '.', 'In', 'the', 'first', 'school', ',', 'the', 'first', 'teacher', 'is', 'always', 'a', 'mother', 'who', 'is', 'the', 'one', 'who', 'plays', 'a', 'major', 'role', 'in', 'our', 'upbringing', '.', '<', 'html', '>', '<', 'body', '>', '<', 'p', '>', 'Movie', '1', '<', '/p', '>', '<', 'p', '>', 'Actor', '-', 'Aamir', 'Khan', '<', '/p', '>', '<', 'p', '>', 'Click', 'here', 'to', '<', 'a', \"href='http\", ':', '//google.com', \"'\", '>', 'download', '<', '/a', '>', '<', '/p', '>', '<', '/body', '>', '<', '/html', '>', 'Check', 'out', 'my', 'notebook', 'https', ':', '//www.kaggle.com/campusx/notebook8223fc1abb']\n"
          ]
        },
        {
          "output_type": "stream",
          "name": "stderr",
          "text": [
            "[nltk_data] Downloading package punkt to /root/nltk_data...\n",
            "[nltk_data]   Package punkt is already up-to-date!\n"
          ]
        }
      ]
    },
    {
      "cell_type": "code",
      "source": [
        "token2=word_tokenize(text_without_url_and_html)\n",
        "print(token2)"
      ],
      "metadata": {
        "colab": {
          "base_uri": "https://localhost:8080/"
        },
        "id": "fgeXnbRcWH1G",
        "outputId": "c60a17b6-4cca-400a-9b01-d7967823dc8e"
      },
      "execution_count": 73,
      "outputs": [
        {
          "output_type": "stream",
          "name": "stdout",
          "text": [
            "['Essay', 'on', 'My', 'Mother', ':', 'Someone', 'has', 'rightly', 'said', ',', 'that', 'God', 'can', '’', 't', 'be', 'everywhere', ',', 'so', 'he', 'created', 'Mothers', '.', 'A', 'mother', 'is', 'the', 'first', 'home', ',', 'the', 'first', 'person', 'to', 'bring', 'us', 'to', 'the', 'world', '.', 'Our', 'parents', 'are', 'the', 'most', 'selfless', 'people', 'in', 'the', 'world', '.', 'In', 'the', 'first', 'school', ',', 'the', 'first', 'teacher', 'is', 'always', 'a', 'mother', 'who', 'is', 'the', 'one', 'who', 'plays', 'a', 'major', 'role', 'in', 'our', 'upbringing', '.', 'Movie', '1', 'Actor', '-', 'Aamir', 'Khan', 'Click', 'here', 'to', 'download', 'Check', 'out', 'my', 'notebook']\n"
          ]
        }
      ]
    },
    {
      "cell_type": "code",
      "source": [
        "text_cleaned3 = re.sub(punctuation_pattern, '', text_without_url_and_html)\n",
        "token3=word_tokenize(text_cleaned3)\n",
        "print(token3)"
      ],
      "metadata": {
        "colab": {
          "base_uri": "https://localhost:8080/"
        },
        "id": "pxCDeBVVcuPI",
        "outputId": "880f73ca-3720-4ba0-c812-1f697b78d9f0"
      },
      "execution_count": 74,
      "outputs": [
        {
          "output_type": "stream",
          "name": "stdout",
          "text": [
            "['Essay', 'on', 'My', 'Mother', 'Someone', 'has', 'rightly', 'said', 'that', 'God', 'cant', 'be', 'everywhere', 'so', 'he', 'created', 'Mothers', 'A', 'mother', 'is', 'the', 'first', 'home', 'the', 'first', 'person', 'to', 'bring', 'us', 'to', 'the', 'world', 'Our', 'parents', 'are', 'the', 'most', 'selfless', 'people', 'in', 'the', 'world', 'In', 'the', 'first', 'school', 'the', 'first', 'teacher', 'is', 'always', 'a', 'mother', 'who', 'is', 'the', 'one', 'who', 'plays', 'a', 'major', 'role', 'in', 'our', 'upbringing', 'Movie', '1', 'Actor', 'Aamir', 'Khan', 'Click', 'here', 'to', 'download', 'Check', 'out', 'my', 'notebook']\n"
          ]
        }
      ]
    },
    {
      "cell_type": "code",
      "source": [
        "import nltk\n",
        "from nltk.stem import WordNetLemmatizer\n",
        "import re\n",
        "from nltk.corpus import stopwords\n",
        "\n",
        "# Defining all pre-processing steps\n",
        "def preprocessing_text(text):\n",
        "    lemmatizer = WordNetLemmatizer()\n",
        "    emoji_pattern = r'^(?:[\\u2700-\\u27bf]|(?:\\ud83c[\\udde6-\\uddff]){1,2}|(?:\\ud83d[\\udc00-\\ude4f]){1,2}|[\\ud800-\\udbff][\\udc00-\\udfff]|[\\u0021-\\u002f\\u003a-\\u0040\\u005b-\\u0060\\u007b-\\u007e]|\\u3299|\\u3297|\\u303d|\\u3030|\\u24c2|\\ud83c[\\udd70-\\udd71]|\\ud83c[\\udd7e-\\udd7f]|\\ud83c\\udd8e|\\ud83c[\\udd91-\\udd9a]|\\ud83c[\\udde6-\\uddff]|\\ud83c[\\ude01-\\ude02]|\\ud83c\\ude1a|\\ud83c\\ude2f|\\ud83c[\\ude32-\\ude3a]|\\ud83c[\\ude50-\\ude51]|\\u203c|\\u2049|\\u25aa|\\u25ab|\\u25b6|\\u25c0|\\u25fb|\\u25fc|\\u25fd|\\u25fe|\\u2600|\\u2601|\\u260e|\\u2611|[^\\u0000-\\u007F])+$'\n",
        "\n",
        "    text = text.split()\n",
        "    text = [lemmatizer.lemmatize(word) for word in text if not word in set(stopwords.words('english'))]\n",
        "    text = ' '.join(text)\n",
        "    text = re.sub(r'[0-9]+', '', text)\n",
        "    text = re.sub(r'[^\\w\\s]', '', text)\n",
        "    text = re.sub(emoji_pattern, '', text)\n",
        "    text= re.sub(r'\\s+', ' ', text)\n",
        "    text= text.lower().strip()\n",
        "\n",
        "    return text\n",
        "\n",
        "sentences_list = nltk.sent_tokenize(text_without_url_and_html)\n",
        "\n",
        "corpus = [preprocessing_text(sentence) for sentence in sentences_list]\n",
        "\n",
        "print(corpus)"
      ],
      "metadata": {
        "colab": {
          "base_uri": "https://localhost:8080/"
        },
        "id": "9WWsFdNBY9Nu",
        "outputId": "7f2d076f-b928-4a7b-8c2f-e84d87efab41"
      },
      "execution_count": 75,
      "outputs": [
        {
          "output_type": "stream",
          "name": "stdout",
          "text": [
            "['essay my mother someone rightly said god cant everywhere created mothers', 'a mother first home first person bring u world', 'our parent selfless people world', 'in first school first teacher always mother one play major role upbringing', 'movie actor aamir khan click download check notebook']\n"
          ]
        }
      ]
    },
    {
      "cell_type": "code",
      "source": [
        "from sklearn.feature_extraction.text import CountVectorizer\n",
        "\n",
        "vectorizer = CountVectorizer()\n",
        "X = vectorizer.fit_transform(corpus)\n",
        "feature_names = vectorizer.get_feature_names_out()\n",
        "X_array = X.toarray()\n",
        "\n",
        "print(\"Unique Word List: \\n\", feature_names)\n",
        "print(\"Bag of Words Matrix: \\n\", X_array)"
      ],
      "metadata": {
        "colab": {
          "base_uri": "https://localhost:8080/"
        },
        "id": "pkStYeZtZPPp",
        "outputId": "1973e469-9ce0-4c5b-eeed-3e83a4aadbf4"
      },
      "execution_count": 76,
      "outputs": [
        {
          "output_type": "stream",
          "name": "stdout",
          "text": [
            "Unique Word List: \n",
            " ['aamir' 'actor' 'always' 'bring' 'cant' 'check' 'click' 'created'\n",
            " 'download' 'essay' 'everywhere' 'first' 'god' 'home' 'in' 'khan' 'major'\n",
            " 'mother' 'mothers' 'movie' 'my' 'notebook' 'one' 'our' 'parent' 'people'\n",
            " 'person' 'play' 'rightly' 'role' 'said' 'school' 'selfless' 'someone'\n",
            " 'teacher' 'upbringing' 'world']\n",
            "Bag of Words Matrix: \n",
            " [[0 0 0 0 1 0 0 1 0 1 1 0 1 0 0 0 0 1 1 0 1 0 0 0 0 0 0 0 1 0 1 0 0 1 0 0\n",
            "  0]\n",
            " [0 0 0 1 0 0 0 0 0 0 0 2 0 1 0 0 0 1 0 0 0 0 0 0 0 0 1 0 0 0 0 0 0 0 0 0\n",
            "  1]\n",
            " [0 0 0 0 0 0 0 0 0 0 0 0 0 0 0 0 0 0 0 0 0 0 0 1 1 1 0 0 0 0 0 0 1 0 0 0\n",
            "  1]\n",
            " [0 0 1 0 0 0 0 0 0 0 0 2 0 0 1 0 1 1 0 0 0 0 1 0 0 0 0 1 0 1 0 1 0 0 1 1\n",
            "  0]\n",
            " [1 1 0 0 0 1 1 0 1 0 0 0 0 0 0 1 0 0 0 1 0 1 0 0 0 0 0 0 0 0 0 0 0 0 0 0\n",
            "  0]]\n"
          ]
        }
      ]
    },
    {
      "cell_type": "code",
      "source": [
        "import pandas as pd\n",
        "\n",
        "df = pd.DataFrame(data=X_array, columns=feature_names, index=corpus)\n",
        "(df)"
      ],
      "metadata": {
        "colab": {
          "base_uri": "https://localhost:8080/",
          "height": 412
        },
        "id": "5Cr8Za6nZZkU",
        "outputId": "0b0ffe31-d2b2-4f91-c1e7-72191fbe098c"
      },
      "execution_count": 77,
      "outputs": [
        {
          "output_type": "execute_result",
          "data": {
            "text/plain": [
              "                                                    aamir  actor  always  \\\n",
              "essay my mother someone rightly said god cant e...      0      0       0   \n",
              "a mother first home first person bring u world          0      0       0   \n",
              "our parent selfless people world                        0      0       0   \n",
              "in first school first teacher always mother one...      0      0       1   \n",
              "movie actor aamir khan click download check not...      1      1       0   \n",
              "\n",
              "                                                    bring  cant  check  click  \\\n",
              "essay my mother someone rightly said god cant e...      0     1      0      0   \n",
              "a mother first home first person bring u world          1     0      0      0   \n",
              "our parent selfless people world                        0     0      0      0   \n",
              "in first school first teacher always mother one...      0     0      0      0   \n",
              "movie actor aamir khan click download check not...      0     0      1      1   \n",
              "\n",
              "                                                    created  download  essay  \\\n",
              "essay my mother someone rightly said god cant e...        1         0      1   \n",
              "a mother first home first person bring u world            0         0      0   \n",
              "our parent selfless people world                          0         0      0   \n",
              "in first school first teacher always mother one...        0         0      0   \n",
              "movie actor aamir khan click download check not...        0         1      0   \n",
              "\n",
              "                                                    ...  play  rightly  role  \\\n",
              "essay my mother someone rightly said god cant e...  ...     0        1     0   \n",
              "a mother first home first person bring u world      ...     0        0     0   \n",
              "our parent selfless people world                    ...     0        0     0   \n",
              "in first school first teacher always mother one...  ...     1        0     1   \n",
              "movie actor aamir khan click download check not...  ...     0        0     0   \n",
              "\n",
              "                                                    said  school  selfless  \\\n",
              "essay my mother someone rightly said god cant e...     1       0         0   \n",
              "a mother first home first person bring u world         0       0         0   \n",
              "our parent selfless people world                       0       0         1   \n",
              "in first school first teacher always mother one...     0       1         0   \n",
              "movie actor aamir khan click download check not...     0       0         0   \n",
              "\n",
              "                                                    someone  teacher  \\\n",
              "essay my mother someone rightly said god cant e...        1        0   \n",
              "a mother first home first person bring u world            0        0   \n",
              "our parent selfless people world                          0        0   \n",
              "in first school first teacher always mother one...        0        1   \n",
              "movie actor aamir khan click download check not...        0        0   \n",
              "\n",
              "                                                    upbringing  world  \n",
              "essay my mother someone rightly said god cant e...           0      0  \n",
              "a mother first home first person bring u world               0      1  \n",
              "our parent selfless people world                             0      1  \n",
              "in first school first teacher always mother one...           1      0  \n",
              "movie actor aamir khan click download check not...           0      0  \n",
              "\n",
              "[5 rows x 37 columns]"
            ],
            "text/html": [
              "\n",
              "  <div id=\"df-163a4b71-ef06-4097-8a16-8fa08d899597\" class=\"colab-df-container\">\n",
              "    <div>\n",
              "<style scoped>\n",
              "    .dataframe tbody tr th:only-of-type {\n",
              "        vertical-align: middle;\n",
              "    }\n",
              "\n",
              "    .dataframe tbody tr th {\n",
              "        vertical-align: top;\n",
              "    }\n",
              "\n",
              "    .dataframe thead th {\n",
              "        text-align: right;\n",
              "    }\n",
              "</style>\n",
              "<table border=\"1\" class=\"dataframe\">\n",
              "  <thead>\n",
              "    <tr style=\"text-align: right;\">\n",
              "      <th></th>\n",
              "      <th>aamir</th>\n",
              "      <th>actor</th>\n",
              "      <th>always</th>\n",
              "      <th>bring</th>\n",
              "      <th>cant</th>\n",
              "      <th>check</th>\n",
              "      <th>click</th>\n",
              "      <th>created</th>\n",
              "      <th>download</th>\n",
              "      <th>essay</th>\n",
              "      <th>...</th>\n",
              "      <th>play</th>\n",
              "      <th>rightly</th>\n",
              "      <th>role</th>\n",
              "      <th>said</th>\n",
              "      <th>school</th>\n",
              "      <th>selfless</th>\n",
              "      <th>someone</th>\n",
              "      <th>teacher</th>\n",
              "      <th>upbringing</th>\n",
              "      <th>world</th>\n",
              "    </tr>\n",
              "  </thead>\n",
              "  <tbody>\n",
              "    <tr>\n",
              "      <th>essay my mother someone rightly said god cant everywhere created mothers</th>\n",
              "      <td>0</td>\n",
              "      <td>0</td>\n",
              "      <td>0</td>\n",
              "      <td>0</td>\n",
              "      <td>1</td>\n",
              "      <td>0</td>\n",
              "      <td>0</td>\n",
              "      <td>1</td>\n",
              "      <td>0</td>\n",
              "      <td>1</td>\n",
              "      <td>...</td>\n",
              "      <td>0</td>\n",
              "      <td>1</td>\n",
              "      <td>0</td>\n",
              "      <td>1</td>\n",
              "      <td>0</td>\n",
              "      <td>0</td>\n",
              "      <td>1</td>\n",
              "      <td>0</td>\n",
              "      <td>0</td>\n",
              "      <td>0</td>\n",
              "    </tr>\n",
              "    <tr>\n",
              "      <th>a mother first home first person bring u world</th>\n",
              "      <td>0</td>\n",
              "      <td>0</td>\n",
              "      <td>0</td>\n",
              "      <td>1</td>\n",
              "      <td>0</td>\n",
              "      <td>0</td>\n",
              "      <td>0</td>\n",
              "      <td>0</td>\n",
              "      <td>0</td>\n",
              "      <td>0</td>\n",
              "      <td>...</td>\n",
              "      <td>0</td>\n",
              "      <td>0</td>\n",
              "      <td>0</td>\n",
              "      <td>0</td>\n",
              "      <td>0</td>\n",
              "      <td>0</td>\n",
              "      <td>0</td>\n",
              "      <td>0</td>\n",
              "      <td>0</td>\n",
              "      <td>1</td>\n",
              "    </tr>\n",
              "    <tr>\n",
              "      <th>our parent selfless people world</th>\n",
              "      <td>0</td>\n",
              "      <td>0</td>\n",
              "      <td>0</td>\n",
              "      <td>0</td>\n",
              "      <td>0</td>\n",
              "      <td>0</td>\n",
              "      <td>0</td>\n",
              "      <td>0</td>\n",
              "      <td>0</td>\n",
              "      <td>0</td>\n",
              "      <td>...</td>\n",
              "      <td>0</td>\n",
              "      <td>0</td>\n",
              "      <td>0</td>\n",
              "      <td>0</td>\n",
              "      <td>0</td>\n",
              "      <td>1</td>\n",
              "      <td>0</td>\n",
              "      <td>0</td>\n",
              "      <td>0</td>\n",
              "      <td>1</td>\n",
              "    </tr>\n",
              "    <tr>\n",
              "      <th>in first school first teacher always mother one play major role upbringing</th>\n",
              "      <td>0</td>\n",
              "      <td>0</td>\n",
              "      <td>1</td>\n",
              "      <td>0</td>\n",
              "      <td>0</td>\n",
              "      <td>0</td>\n",
              "      <td>0</td>\n",
              "      <td>0</td>\n",
              "      <td>0</td>\n",
              "      <td>0</td>\n",
              "      <td>...</td>\n",
              "      <td>1</td>\n",
              "      <td>0</td>\n",
              "      <td>1</td>\n",
              "      <td>0</td>\n",
              "      <td>1</td>\n",
              "      <td>0</td>\n",
              "      <td>0</td>\n",
              "      <td>1</td>\n",
              "      <td>1</td>\n",
              "      <td>0</td>\n",
              "    </tr>\n",
              "    <tr>\n",
              "      <th>movie actor aamir khan click download check notebook</th>\n",
              "      <td>1</td>\n",
              "      <td>1</td>\n",
              "      <td>0</td>\n",
              "      <td>0</td>\n",
              "      <td>0</td>\n",
              "      <td>1</td>\n",
              "      <td>1</td>\n",
              "      <td>0</td>\n",
              "      <td>1</td>\n",
              "      <td>0</td>\n",
              "      <td>...</td>\n",
              "      <td>0</td>\n",
              "      <td>0</td>\n",
              "      <td>0</td>\n",
              "      <td>0</td>\n",
              "      <td>0</td>\n",
              "      <td>0</td>\n",
              "      <td>0</td>\n",
              "      <td>0</td>\n",
              "      <td>0</td>\n",
              "      <td>0</td>\n",
              "    </tr>\n",
              "  </tbody>\n",
              "</table>\n",
              "<p>5 rows × 37 columns</p>\n",
              "</div>\n",
              "    <div class=\"colab-df-buttons\">\n",
              "\n",
              "  <div class=\"colab-df-container\">\n",
              "    <button class=\"colab-df-convert\" onclick=\"convertToInteractive('df-163a4b71-ef06-4097-8a16-8fa08d899597')\"\n",
              "            title=\"Convert this dataframe to an interactive table.\"\n",
              "            style=\"display:none;\">\n",
              "\n",
              "  <svg xmlns=\"http://www.w3.org/2000/svg\" height=\"24px\" viewBox=\"0 -960 960 960\">\n",
              "    <path d=\"M120-120v-720h720v720H120Zm60-500h600v-160H180v160Zm220 220h160v-160H400v160Zm0 220h160v-160H400v160ZM180-400h160v-160H180v160Zm440 0h160v-160H620v160ZM180-180h160v-160H180v160Zm440 0h160v-160H620v160Z\"/>\n",
              "  </svg>\n",
              "    </button>\n",
              "\n",
              "  <style>\n",
              "    .colab-df-container {\n",
              "      display:flex;\n",
              "      gap: 12px;\n",
              "    }\n",
              "\n",
              "    .colab-df-convert {\n",
              "      background-color: #E8F0FE;\n",
              "      border: none;\n",
              "      border-radius: 50%;\n",
              "      cursor: pointer;\n",
              "      display: none;\n",
              "      fill: #1967D2;\n",
              "      height: 32px;\n",
              "      padding: 0 0 0 0;\n",
              "      width: 32px;\n",
              "    }\n",
              "\n",
              "    .colab-df-convert:hover {\n",
              "      background-color: #E2EBFA;\n",
              "      box-shadow: 0px 1px 2px rgba(60, 64, 67, 0.3), 0px 1px 3px 1px rgba(60, 64, 67, 0.15);\n",
              "      fill: #174EA6;\n",
              "    }\n",
              "\n",
              "    .colab-df-buttons div {\n",
              "      margin-bottom: 4px;\n",
              "    }\n",
              "\n",
              "    [theme=dark] .colab-df-convert {\n",
              "      background-color: #3B4455;\n",
              "      fill: #D2E3FC;\n",
              "    }\n",
              "\n",
              "    [theme=dark] .colab-df-convert:hover {\n",
              "      background-color: #434B5C;\n",
              "      box-shadow: 0px 1px 3px 1px rgba(0, 0, 0, 0.15);\n",
              "      filter: drop-shadow(0px 1px 2px rgba(0, 0, 0, 0.3));\n",
              "      fill: #FFFFFF;\n",
              "    }\n",
              "  </style>\n",
              "\n",
              "    <script>\n",
              "      const buttonEl =\n",
              "        document.querySelector('#df-163a4b71-ef06-4097-8a16-8fa08d899597 button.colab-df-convert');\n",
              "      buttonEl.style.display =\n",
              "        google.colab.kernel.accessAllowed ? 'block' : 'none';\n",
              "\n",
              "      async function convertToInteractive(key) {\n",
              "        const element = document.querySelector('#df-163a4b71-ef06-4097-8a16-8fa08d899597');\n",
              "        const dataTable =\n",
              "          await google.colab.kernel.invokeFunction('convertToInteractive',\n",
              "                                                    [key], {});\n",
              "        if (!dataTable) return;\n",
              "\n",
              "        const docLinkHtml = 'Like what you see? Visit the ' +\n",
              "          '<a target=\"_blank\" href=https://colab.research.google.com/notebooks/data_table.ipynb>data table notebook</a>'\n",
              "          + ' to learn more about interactive tables.';\n",
              "        element.innerHTML = '';\n",
              "        dataTable['output_type'] = 'display_data';\n",
              "        await google.colab.output.renderOutput(dataTable, element);\n",
              "        const docLink = document.createElement('div');\n",
              "        docLink.innerHTML = docLinkHtml;\n",
              "        element.appendChild(docLink);\n",
              "      }\n",
              "    </script>\n",
              "  </div>\n",
              "\n",
              "\n",
              "<div id=\"df-28e29d28-711e-40e3-a63e-9d454fbd76ba\">\n",
              "  <button class=\"colab-df-quickchart\" onclick=\"quickchart('df-28e29d28-711e-40e3-a63e-9d454fbd76ba')\"\n",
              "            title=\"Suggest charts\"\n",
              "            style=\"display:none;\">\n",
              "\n",
              "<svg xmlns=\"http://www.w3.org/2000/svg\" height=\"24px\"viewBox=\"0 0 24 24\"\n",
              "     width=\"24px\">\n",
              "    <g>\n",
              "        <path d=\"M19 3H5c-1.1 0-2 .9-2 2v14c0 1.1.9 2 2 2h14c1.1 0 2-.9 2-2V5c0-1.1-.9-2-2-2zM9 17H7v-7h2v7zm4 0h-2V7h2v10zm4 0h-2v-4h2v4z\"/>\n",
              "    </g>\n",
              "</svg>\n",
              "  </button>\n",
              "\n",
              "<style>\n",
              "  .colab-df-quickchart {\n",
              "      --bg-color: #E8F0FE;\n",
              "      --fill-color: #1967D2;\n",
              "      --hover-bg-color: #E2EBFA;\n",
              "      --hover-fill-color: #174EA6;\n",
              "      --disabled-fill-color: #AAA;\n",
              "      --disabled-bg-color: #DDD;\n",
              "  }\n",
              "\n",
              "  [theme=dark] .colab-df-quickchart {\n",
              "      --bg-color: #3B4455;\n",
              "      --fill-color: #D2E3FC;\n",
              "      --hover-bg-color: #434B5C;\n",
              "      --hover-fill-color: #FFFFFF;\n",
              "      --disabled-bg-color: #3B4455;\n",
              "      --disabled-fill-color: #666;\n",
              "  }\n",
              "\n",
              "  .colab-df-quickchart {\n",
              "    background-color: var(--bg-color);\n",
              "    border: none;\n",
              "    border-radius: 50%;\n",
              "    cursor: pointer;\n",
              "    display: none;\n",
              "    fill: var(--fill-color);\n",
              "    height: 32px;\n",
              "    padding: 0;\n",
              "    width: 32px;\n",
              "  }\n",
              "\n",
              "  .colab-df-quickchart:hover {\n",
              "    background-color: var(--hover-bg-color);\n",
              "    box-shadow: 0 1px 2px rgba(60, 64, 67, 0.3), 0 1px 3px 1px rgba(60, 64, 67, 0.15);\n",
              "    fill: var(--button-hover-fill-color);\n",
              "  }\n",
              "\n",
              "  .colab-df-quickchart-complete:disabled,\n",
              "  .colab-df-quickchart-complete:disabled:hover {\n",
              "    background-color: var(--disabled-bg-color);\n",
              "    fill: var(--disabled-fill-color);\n",
              "    box-shadow: none;\n",
              "  }\n",
              "\n",
              "  .colab-df-spinner {\n",
              "    border: 2px solid var(--fill-color);\n",
              "    border-color: transparent;\n",
              "    border-bottom-color: var(--fill-color);\n",
              "    animation:\n",
              "      spin 1s steps(1) infinite;\n",
              "  }\n",
              "\n",
              "  @keyframes spin {\n",
              "    0% {\n",
              "      border-color: transparent;\n",
              "      border-bottom-color: var(--fill-color);\n",
              "      border-left-color: var(--fill-color);\n",
              "    }\n",
              "    20% {\n",
              "      border-color: transparent;\n",
              "      border-left-color: var(--fill-color);\n",
              "      border-top-color: var(--fill-color);\n",
              "    }\n",
              "    30% {\n",
              "      border-color: transparent;\n",
              "      border-left-color: var(--fill-color);\n",
              "      border-top-color: var(--fill-color);\n",
              "      border-right-color: var(--fill-color);\n",
              "    }\n",
              "    40% {\n",
              "      border-color: transparent;\n",
              "      border-right-color: var(--fill-color);\n",
              "      border-top-color: var(--fill-color);\n",
              "    }\n",
              "    60% {\n",
              "      border-color: transparent;\n",
              "      border-right-color: var(--fill-color);\n",
              "    }\n",
              "    80% {\n",
              "      border-color: transparent;\n",
              "      border-right-color: var(--fill-color);\n",
              "      border-bottom-color: var(--fill-color);\n",
              "    }\n",
              "    90% {\n",
              "      border-color: transparent;\n",
              "      border-bottom-color: var(--fill-color);\n",
              "    }\n",
              "  }\n",
              "</style>\n",
              "\n",
              "  <script>\n",
              "    async function quickchart(key) {\n",
              "      const quickchartButtonEl =\n",
              "        document.querySelector('#' + key + ' button');\n",
              "      quickchartButtonEl.disabled = true;  // To prevent multiple clicks.\n",
              "      quickchartButtonEl.classList.add('colab-df-spinner');\n",
              "      try {\n",
              "        const charts = await google.colab.kernel.invokeFunction(\n",
              "            'suggestCharts', [key], {});\n",
              "      } catch (error) {\n",
              "        console.error('Error during call to suggestCharts:', error);\n",
              "      }\n",
              "      quickchartButtonEl.classList.remove('colab-df-spinner');\n",
              "      quickchartButtonEl.classList.add('colab-df-quickchart-complete');\n",
              "    }\n",
              "    (() => {\n",
              "      let quickchartButtonEl =\n",
              "        document.querySelector('#df-28e29d28-711e-40e3-a63e-9d454fbd76ba button');\n",
              "      quickchartButtonEl.style.display =\n",
              "        google.colab.kernel.accessAllowed ? 'block' : 'none';\n",
              "    })();\n",
              "  </script>\n",
              "</div>\n",
              "\n",
              "  <div id=\"id_197940df-ba6a-40aa-84db-eeecf8df1b3a\">\n",
              "    <style>\n",
              "      .colab-df-generate {\n",
              "        background-color: #E8F0FE;\n",
              "        border: none;\n",
              "        border-radius: 50%;\n",
              "        cursor: pointer;\n",
              "        display: none;\n",
              "        fill: #1967D2;\n",
              "        height: 32px;\n",
              "        padding: 0 0 0 0;\n",
              "        width: 32px;\n",
              "      }\n",
              "\n",
              "      .colab-df-generate:hover {\n",
              "        background-color: #E2EBFA;\n",
              "        box-shadow: 0px 1px 2px rgba(60, 64, 67, 0.3), 0px 1px 3px 1px rgba(60, 64, 67, 0.15);\n",
              "        fill: #174EA6;\n",
              "      }\n",
              "\n",
              "      [theme=dark] .colab-df-generate {\n",
              "        background-color: #3B4455;\n",
              "        fill: #D2E3FC;\n",
              "      }\n",
              "\n",
              "      [theme=dark] .colab-df-generate:hover {\n",
              "        background-color: #434B5C;\n",
              "        box-shadow: 0px 1px 3px 1px rgba(0, 0, 0, 0.15);\n",
              "        filter: drop-shadow(0px 1px 2px rgba(0, 0, 0, 0.3));\n",
              "        fill: #FFFFFF;\n",
              "      }\n",
              "    </style>\n",
              "    <button class=\"colab-df-generate\" onclick=\"generateWithVariable('df')\"\n",
              "            title=\"Generate code using this dataframe.\"\n",
              "            style=\"display:none;\">\n",
              "\n",
              "  <svg xmlns=\"http://www.w3.org/2000/svg\" height=\"24px\"viewBox=\"0 0 24 24\"\n",
              "       width=\"24px\">\n",
              "    <path d=\"M7,19H8.4L18.45,9,17,7.55,7,17.6ZM5,21V16.75L18.45,3.32a2,2,0,0,1,2.83,0l1.4,1.43a1.91,1.91,0,0,1,.58,1.4,1.91,1.91,0,0,1-.58,1.4L9.25,21ZM18.45,9,17,7.55Zm-12,3A5.31,5.31,0,0,0,4.9,8.1,5.31,5.31,0,0,0,1,6.5,5.31,5.31,0,0,0,4.9,4.9,5.31,5.31,0,0,0,6.5,1,5.31,5.31,0,0,0,8.1,4.9,5.31,5.31,0,0,0,12,6.5,5.46,5.46,0,0,0,6.5,12Z\"/>\n",
              "  </svg>\n",
              "    </button>\n",
              "    <script>\n",
              "      (() => {\n",
              "      const buttonEl =\n",
              "        document.querySelector('#id_197940df-ba6a-40aa-84db-eeecf8df1b3a button.colab-df-generate');\n",
              "      buttonEl.style.display =\n",
              "        google.colab.kernel.accessAllowed ? 'block' : 'none';\n",
              "\n",
              "      buttonEl.onclick = () => {\n",
              "        google.colab.notebook.generateWithVariable('df');\n",
              "      }\n",
              "      })();\n",
              "    </script>\n",
              "  </div>\n",
              "\n",
              "    </div>\n",
              "  </div>\n"
            ],
            "application/vnd.google.colaboratory.intrinsic+json": {
              "type": "dataframe",
              "variable_name": "df"
            }
          },
          "metadata": {},
          "execution_count": 77
        }
      ]
    },
    {
      "cell_type": "code",
      "source": [
        "from nltk.stem import WordNetLemmatizer\n",
        "import re\n",
        "import nltk\n",
        "from sklearn.feature_extraction.text import TfidfVectorizer\n",
        "from nltk.corpus import stopwords\n",
        "\n",
        "def preprocessing_text(text):\n",
        "    emoji_pattern = r'^(?:[\\u2700-\\u27bf]|(?:\\ud83c[\\udde6-\\uddff]){1,2}|(?:\\ud83d[\\udc00-\\ude4f]){1,2}|[\\ud800-\\udbff][\\udc00-\\udfff]|[\\u0021-\\u002f\\u003a-\\u0040\\u005b-\\u0060\\u007b-\\u007e]|\\u3299|\\u3297|\\u303d|\\u3030|\\u24c2|\\ud83c[\\udd70-\\udd71]|\\ud83c[\\udd7e-\\udd7f]|\\ud83c\\udd8e|\\ud83c[\\udd91-\\udd9a]|\\ud83c[\\udde6-\\uddff]|\\ud83c[\\ude01-\\ude02]|\\ud83c\\ude1a|\\ud83c\\ude2f|\\ud83c[\\ude32-\\ude3a]|\\ud83c[\\ude50-\\ude51]|\\u203c|\\u2049|\\u25aa|\\u25ab|\\u25b6|\\u25c0|\\u25fb|\\u25fc|\\u25fd|\\u25fe|\\u2600|\\u2601|\\u260e|\\u2611|[^\\u0000-\\u007F])+$'\n",
        "\n",
        "    text= text.lower()\n",
        "    text = text.split()\n",
        "    text = ' '.join(text)\n",
        "    text = re.sub(r'[0-9]+', '', text)\n",
        "    text = re.sub(r'[^\\w\\s]', '', text)\n",
        "    text = re.sub(emoji_pattern, '', text)\n",
        "    text= re.sub(r'\\s+', ' ', text)\n",
        "\n",
        "    return text\n",
        "\n",
        "sentences_list = nltk.sent_tokenize(text_without_url_and_html)\n",
        "corpus = [preprocessing_text(sentence) for sentence in sentences_list]\n",
        "corpus"
      ],
      "metadata": {
        "colab": {
          "base_uri": "https://localhost:8080/"
        },
        "id": "EhIa4H7rZeAs",
        "outputId": "0131569f-a070-44c2-f092-f0051ed419c6"
      },
      "execution_count": 78,
      "outputs": [
        {
          "output_type": "execute_result",
          "data": {
            "text/plain": [
              "['essay on my mother someone has rightly said that god cant be everywhere so he created mothers',\n",
              " 'a mother is the first home the first person to bring us to the world',\n",
              " 'our parents are the most selfless people in the world',\n",
              " 'in the first school the first teacher is always a mother who is the one who plays a major role in our upbringing',\n",
              " 'movie actor aamir khan click here to download check out my notebook']"
            ]
          },
          "metadata": {},
          "execution_count": 78
        }
      ]
    },
    {
      "cell_type": "code",
      "source": [
        "from sklearn.feature_extraction.text import TfidfVectorizer\n",
        "import pandas as pd\n",
        "\n",
        "tfidf_vectorizer = TfidfVectorizer()\n",
        "tfidf_matrix = tfidf_vectorizer.fit_transform(corpus)\n",
        "terms = tfidf_vectorizer.get_feature_names_out()\n",
        "df = pd.DataFrame(tfidf_matrix.toarray(), columns=terms)\n",
        "\n",
        "df"
      ],
      "metadata": {
        "colab": {
          "base_uri": "https://localhost:8080/",
          "height": 255
        },
        "id": "PWXAz6CQZs37",
        "outputId": "b3096034-1c2e-416b-fc23-ae20376da03c"
      },
      "execution_count": 79,
      "outputs": [
        {
          "output_type": "execute_result",
          "data": {
            "text/plain": [
              "      aamir     actor    always       are        be     bring      cant  \\\n",
              "0  0.000000  0.000000  0.000000  0.000000  0.249227  0.000000  0.249227   \n",
              "1  0.000000  0.000000  0.000000  0.000000  0.000000  0.258248  0.000000   \n",
              "2  0.000000  0.000000  0.000000  0.338123  0.000000  0.000000  0.000000   \n",
              "3  0.000000  0.000000  0.200212  0.000000  0.000000  0.000000  0.000000   \n",
              "4  0.297458  0.297458  0.000000  0.000000  0.000000  0.000000  0.000000   \n",
              "\n",
              "      check     click   created  ...        so   someone   teacher      that  \\\n",
              "0  0.000000  0.000000  0.249227  ...  0.249227  0.249227  0.000000  0.249227   \n",
              "1  0.000000  0.000000  0.000000  ...  0.000000  0.000000  0.000000  0.000000   \n",
              "2  0.000000  0.000000  0.000000  ...  0.000000  0.000000  0.000000  0.000000   \n",
              "3  0.000000  0.000000  0.000000  ...  0.000000  0.000000  0.200212  0.000000   \n",
              "4  0.297458  0.297458  0.000000  ...  0.000000  0.000000  0.000000  0.000000   \n",
              "\n",
              "        the        to  upbringing        us       who     world  \n",
              "0  0.000000  0.000000    0.000000  0.000000  0.000000  0.000000  \n",
              "1  0.518855  0.416706    0.000000  0.258248  0.000000  0.208353  \n",
              "2  0.452890  0.000000    0.000000  0.000000  0.000000  0.272796  \n",
              "3  0.402253  0.000000    0.200212  0.000000  0.400424  0.000000  \n",
              "4  0.000000  0.239987    0.000000  0.000000  0.000000  0.000000  \n",
              "\n",
              "[5 rows x 52 columns]"
            ],
            "text/html": [
              "\n",
              "  <div id=\"df-b5e65c4f-35fb-4b66-adc9-17c93dd51cb2\" class=\"colab-df-container\">\n",
              "    <div>\n",
              "<style scoped>\n",
              "    .dataframe tbody tr th:only-of-type {\n",
              "        vertical-align: middle;\n",
              "    }\n",
              "\n",
              "    .dataframe tbody tr th {\n",
              "        vertical-align: top;\n",
              "    }\n",
              "\n",
              "    .dataframe thead th {\n",
              "        text-align: right;\n",
              "    }\n",
              "</style>\n",
              "<table border=\"1\" class=\"dataframe\">\n",
              "  <thead>\n",
              "    <tr style=\"text-align: right;\">\n",
              "      <th></th>\n",
              "      <th>aamir</th>\n",
              "      <th>actor</th>\n",
              "      <th>always</th>\n",
              "      <th>are</th>\n",
              "      <th>be</th>\n",
              "      <th>bring</th>\n",
              "      <th>cant</th>\n",
              "      <th>check</th>\n",
              "      <th>click</th>\n",
              "      <th>created</th>\n",
              "      <th>...</th>\n",
              "      <th>so</th>\n",
              "      <th>someone</th>\n",
              "      <th>teacher</th>\n",
              "      <th>that</th>\n",
              "      <th>the</th>\n",
              "      <th>to</th>\n",
              "      <th>upbringing</th>\n",
              "      <th>us</th>\n",
              "      <th>who</th>\n",
              "      <th>world</th>\n",
              "    </tr>\n",
              "  </thead>\n",
              "  <tbody>\n",
              "    <tr>\n",
              "      <th>0</th>\n",
              "      <td>0.000000</td>\n",
              "      <td>0.000000</td>\n",
              "      <td>0.000000</td>\n",
              "      <td>0.000000</td>\n",
              "      <td>0.249227</td>\n",
              "      <td>0.000000</td>\n",
              "      <td>0.249227</td>\n",
              "      <td>0.000000</td>\n",
              "      <td>0.000000</td>\n",
              "      <td>0.249227</td>\n",
              "      <td>...</td>\n",
              "      <td>0.249227</td>\n",
              "      <td>0.249227</td>\n",
              "      <td>0.000000</td>\n",
              "      <td>0.249227</td>\n",
              "      <td>0.000000</td>\n",
              "      <td>0.000000</td>\n",
              "      <td>0.000000</td>\n",
              "      <td>0.000000</td>\n",
              "      <td>0.000000</td>\n",
              "      <td>0.000000</td>\n",
              "    </tr>\n",
              "    <tr>\n",
              "      <th>1</th>\n",
              "      <td>0.000000</td>\n",
              "      <td>0.000000</td>\n",
              "      <td>0.000000</td>\n",
              "      <td>0.000000</td>\n",
              "      <td>0.000000</td>\n",
              "      <td>0.258248</td>\n",
              "      <td>0.000000</td>\n",
              "      <td>0.000000</td>\n",
              "      <td>0.000000</td>\n",
              "      <td>0.000000</td>\n",
              "      <td>...</td>\n",
              "      <td>0.000000</td>\n",
              "      <td>0.000000</td>\n",
              "      <td>0.000000</td>\n",
              "      <td>0.000000</td>\n",
              "      <td>0.518855</td>\n",
              "      <td>0.416706</td>\n",
              "      <td>0.000000</td>\n",
              "      <td>0.258248</td>\n",
              "      <td>0.000000</td>\n",
              "      <td>0.208353</td>\n",
              "    </tr>\n",
              "    <tr>\n",
              "      <th>2</th>\n",
              "      <td>0.000000</td>\n",
              "      <td>0.000000</td>\n",
              "      <td>0.000000</td>\n",
              "      <td>0.338123</td>\n",
              "      <td>0.000000</td>\n",
              "      <td>0.000000</td>\n",
              "      <td>0.000000</td>\n",
              "      <td>0.000000</td>\n",
              "      <td>0.000000</td>\n",
              "      <td>0.000000</td>\n",
              "      <td>...</td>\n",
              "      <td>0.000000</td>\n",
              "      <td>0.000000</td>\n",
              "      <td>0.000000</td>\n",
              "      <td>0.000000</td>\n",
              "      <td>0.452890</td>\n",
              "      <td>0.000000</td>\n",
              "      <td>0.000000</td>\n",
              "      <td>0.000000</td>\n",
              "      <td>0.000000</td>\n",
              "      <td>0.272796</td>\n",
              "    </tr>\n",
              "    <tr>\n",
              "      <th>3</th>\n",
              "      <td>0.000000</td>\n",
              "      <td>0.000000</td>\n",
              "      <td>0.200212</td>\n",
              "      <td>0.000000</td>\n",
              "      <td>0.000000</td>\n",
              "      <td>0.000000</td>\n",
              "      <td>0.000000</td>\n",
              "      <td>0.000000</td>\n",
              "      <td>0.000000</td>\n",
              "      <td>0.000000</td>\n",
              "      <td>...</td>\n",
              "      <td>0.000000</td>\n",
              "      <td>0.000000</td>\n",
              "      <td>0.200212</td>\n",
              "      <td>0.000000</td>\n",
              "      <td>0.402253</td>\n",
              "      <td>0.000000</td>\n",
              "      <td>0.200212</td>\n",
              "      <td>0.000000</td>\n",
              "      <td>0.400424</td>\n",
              "      <td>0.000000</td>\n",
              "    </tr>\n",
              "    <tr>\n",
              "      <th>4</th>\n",
              "      <td>0.297458</td>\n",
              "      <td>0.297458</td>\n",
              "      <td>0.000000</td>\n",
              "      <td>0.000000</td>\n",
              "      <td>0.000000</td>\n",
              "      <td>0.000000</td>\n",
              "      <td>0.000000</td>\n",
              "      <td>0.297458</td>\n",
              "      <td>0.297458</td>\n",
              "      <td>0.000000</td>\n",
              "      <td>...</td>\n",
              "      <td>0.000000</td>\n",
              "      <td>0.000000</td>\n",
              "      <td>0.000000</td>\n",
              "      <td>0.000000</td>\n",
              "      <td>0.000000</td>\n",
              "      <td>0.239987</td>\n",
              "      <td>0.000000</td>\n",
              "      <td>0.000000</td>\n",
              "      <td>0.000000</td>\n",
              "      <td>0.000000</td>\n",
              "    </tr>\n",
              "  </tbody>\n",
              "</table>\n",
              "<p>5 rows × 52 columns</p>\n",
              "</div>\n",
              "    <div class=\"colab-df-buttons\">\n",
              "\n",
              "  <div class=\"colab-df-container\">\n",
              "    <button class=\"colab-df-convert\" onclick=\"convertToInteractive('df-b5e65c4f-35fb-4b66-adc9-17c93dd51cb2')\"\n",
              "            title=\"Convert this dataframe to an interactive table.\"\n",
              "            style=\"display:none;\">\n",
              "\n",
              "  <svg xmlns=\"http://www.w3.org/2000/svg\" height=\"24px\" viewBox=\"0 -960 960 960\">\n",
              "    <path d=\"M120-120v-720h720v720H120Zm60-500h600v-160H180v160Zm220 220h160v-160H400v160Zm0 220h160v-160H400v160ZM180-400h160v-160H180v160Zm440 0h160v-160H620v160ZM180-180h160v-160H180v160Zm440 0h160v-160H620v160Z\"/>\n",
              "  </svg>\n",
              "    </button>\n",
              "\n",
              "  <style>\n",
              "    .colab-df-container {\n",
              "      display:flex;\n",
              "      gap: 12px;\n",
              "    }\n",
              "\n",
              "    .colab-df-convert {\n",
              "      background-color: #E8F0FE;\n",
              "      border: none;\n",
              "      border-radius: 50%;\n",
              "      cursor: pointer;\n",
              "      display: none;\n",
              "      fill: #1967D2;\n",
              "      height: 32px;\n",
              "      padding: 0 0 0 0;\n",
              "      width: 32px;\n",
              "    }\n",
              "\n",
              "    .colab-df-convert:hover {\n",
              "      background-color: #E2EBFA;\n",
              "      box-shadow: 0px 1px 2px rgba(60, 64, 67, 0.3), 0px 1px 3px 1px rgba(60, 64, 67, 0.15);\n",
              "      fill: #174EA6;\n",
              "    }\n",
              "\n",
              "    .colab-df-buttons div {\n",
              "      margin-bottom: 4px;\n",
              "    }\n",
              "\n",
              "    [theme=dark] .colab-df-convert {\n",
              "      background-color: #3B4455;\n",
              "      fill: #D2E3FC;\n",
              "    }\n",
              "\n",
              "    [theme=dark] .colab-df-convert:hover {\n",
              "      background-color: #434B5C;\n",
              "      box-shadow: 0px 1px 3px 1px rgba(0, 0, 0, 0.15);\n",
              "      filter: drop-shadow(0px 1px 2px rgba(0, 0, 0, 0.3));\n",
              "      fill: #FFFFFF;\n",
              "    }\n",
              "  </style>\n",
              "\n",
              "    <script>\n",
              "      const buttonEl =\n",
              "        document.querySelector('#df-b5e65c4f-35fb-4b66-adc9-17c93dd51cb2 button.colab-df-convert');\n",
              "      buttonEl.style.display =\n",
              "        google.colab.kernel.accessAllowed ? 'block' : 'none';\n",
              "\n",
              "      async function convertToInteractive(key) {\n",
              "        const element = document.querySelector('#df-b5e65c4f-35fb-4b66-adc9-17c93dd51cb2');\n",
              "        const dataTable =\n",
              "          await google.colab.kernel.invokeFunction('convertToInteractive',\n",
              "                                                    [key], {});\n",
              "        if (!dataTable) return;\n",
              "\n",
              "        const docLinkHtml = 'Like what you see? Visit the ' +\n",
              "          '<a target=\"_blank\" href=https://colab.research.google.com/notebooks/data_table.ipynb>data table notebook</a>'\n",
              "          + ' to learn more about interactive tables.';\n",
              "        element.innerHTML = '';\n",
              "        dataTable['output_type'] = 'display_data';\n",
              "        await google.colab.output.renderOutput(dataTable, element);\n",
              "        const docLink = document.createElement('div');\n",
              "        docLink.innerHTML = docLinkHtml;\n",
              "        element.appendChild(docLink);\n",
              "      }\n",
              "    </script>\n",
              "  </div>\n",
              "\n",
              "\n",
              "<div id=\"df-f1645334-f747-4cc5-ab04-969542224bd2\">\n",
              "  <button class=\"colab-df-quickchart\" onclick=\"quickchart('df-f1645334-f747-4cc5-ab04-969542224bd2')\"\n",
              "            title=\"Suggest charts\"\n",
              "            style=\"display:none;\">\n",
              "\n",
              "<svg xmlns=\"http://www.w3.org/2000/svg\" height=\"24px\"viewBox=\"0 0 24 24\"\n",
              "     width=\"24px\">\n",
              "    <g>\n",
              "        <path d=\"M19 3H5c-1.1 0-2 .9-2 2v14c0 1.1.9 2 2 2h14c1.1 0 2-.9 2-2V5c0-1.1-.9-2-2-2zM9 17H7v-7h2v7zm4 0h-2V7h2v10zm4 0h-2v-4h2v4z\"/>\n",
              "    </g>\n",
              "</svg>\n",
              "  </button>\n",
              "\n",
              "<style>\n",
              "  .colab-df-quickchart {\n",
              "      --bg-color: #E8F0FE;\n",
              "      --fill-color: #1967D2;\n",
              "      --hover-bg-color: #E2EBFA;\n",
              "      --hover-fill-color: #174EA6;\n",
              "      --disabled-fill-color: #AAA;\n",
              "      --disabled-bg-color: #DDD;\n",
              "  }\n",
              "\n",
              "  [theme=dark] .colab-df-quickchart {\n",
              "      --bg-color: #3B4455;\n",
              "      --fill-color: #D2E3FC;\n",
              "      --hover-bg-color: #434B5C;\n",
              "      --hover-fill-color: #FFFFFF;\n",
              "      --disabled-bg-color: #3B4455;\n",
              "      --disabled-fill-color: #666;\n",
              "  }\n",
              "\n",
              "  .colab-df-quickchart {\n",
              "    background-color: var(--bg-color);\n",
              "    border: none;\n",
              "    border-radius: 50%;\n",
              "    cursor: pointer;\n",
              "    display: none;\n",
              "    fill: var(--fill-color);\n",
              "    height: 32px;\n",
              "    padding: 0;\n",
              "    width: 32px;\n",
              "  }\n",
              "\n",
              "  .colab-df-quickchart:hover {\n",
              "    background-color: var(--hover-bg-color);\n",
              "    box-shadow: 0 1px 2px rgba(60, 64, 67, 0.3), 0 1px 3px 1px rgba(60, 64, 67, 0.15);\n",
              "    fill: var(--button-hover-fill-color);\n",
              "  }\n",
              "\n",
              "  .colab-df-quickchart-complete:disabled,\n",
              "  .colab-df-quickchart-complete:disabled:hover {\n",
              "    background-color: var(--disabled-bg-color);\n",
              "    fill: var(--disabled-fill-color);\n",
              "    box-shadow: none;\n",
              "  }\n",
              "\n",
              "  .colab-df-spinner {\n",
              "    border: 2px solid var(--fill-color);\n",
              "    border-color: transparent;\n",
              "    border-bottom-color: var(--fill-color);\n",
              "    animation:\n",
              "      spin 1s steps(1) infinite;\n",
              "  }\n",
              "\n",
              "  @keyframes spin {\n",
              "    0% {\n",
              "      border-color: transparent;\n",
              "      border-bottom-color: var(--fill-color);\n",
              "      border-left-color: var(--fill-color);\n",
              "    }\n",
              "    20% {\n",
              "      border-color: transparent;\n",
              "      border-left-color: var(--fill-color);\n",
              "      border-top-color: var(--fill-color);\n",
              "    }\n",
              "    30% {\n",
              "      border-color: transparent;\n",
              "      border-left-color: var(--fill-color);\n",
              "      border-top-color: var(--fill-color);\n",
              "      border-right-color: var(--fill-color);\n",
              "    }\n",
              "    40% {\n",
              "      border-color: transparent;\n",
              "      border-right-color: var(--fill-color);\n",
              "      border-top-color: var(--fill-color);\n",
              "    }\n",
              "    60% {\n",
              "      border-color: transparent;\n",
              "      border-right-color: var(--fill-color);\n",
              "    }\n",
              "    80% {\n",
              "      border-color: transparent;\n",
              "      border-right-color: var(--fill-color);\n",
              "      border-bottom-color: var(--fill-color);\n",
              "    }\n",
              "    90% {\n",
              "      border-color: transparent;\n",
              "      border-bottom-color: var(--fill-color);\n",
              "    }\n",
              "  }\n",
              "</style>\n",
              "\n",
              "  <script>\n",
              "    async function quickchart(key) {\n",
              "      const quickchartButtonEl =\n",
              "        document.querySelector('#' + key + ' button');\n",
              "      quickchartButtonEl.disabled = true;  // To prevent multiple clicks.\n",
              "      quickchartButtonEl.classList.add('colab-df-spinner');\n",
              "      try {\n",
              "        const charts = await google.colab.kernel.invokeFunction(\n",
              "            'suggestCharts', [key], {});\n",
              "      } catch (error) {\n",
              "        console.error('Error during call to suggestCharts:', error);\n",
              "      }\n",
              "      quickchartButtonEl.classList.remove('colab-df-spinner');\n",
              "      quickchartButtonEl.classList.add('colab-df-quickchart-complete');\n",
              "    }\n",
              "    (() => {\n",
              "      let quickchartButtonEl =\n",
              "        document.querySelector('#df-f1645334-f747-4cc5-ab04-969542224bd2 button');\n",
              "      quickchartButtonEl.style.display =\n",
              "        google.colab.kernel.accessAllowed ? 'block' : 'none';\n",
              "    })();\n",
              "  </script>\n",
              "</div>\n",
              "\n",
              "  <div id=\"id_5f1dd937-3777-4ff3-894e-1b9a056fc5ac\">\n",
              "    <style>\n",
              "      .colab-df-generate {\n",
              "        background-color: #E8F0FE;\n",
              "        border: none;\n",
              "        border-radius: 50%;\n",
              "        cursor: pointer;\n",
              "        display: none;\n",
              "        fill: #1967D2;\n",
              "        height: 32px;\n",
              "        padding: 0 0 0 0;\n",
              "        width: 32px;\n",
              "      }\n",
              "\n",
              "      .colab-df-generate:hover {\n",
              "        background-color: #E2EBFA;\n",
              "        box-shadow: 0px 1px 2px rgba(60, 64, 67, 0.3), 0px 1px 3px 1px rgba(60, 64, 67, 0.15);\n",
              "        fill: #174EA6;\n",
              "      }\n",
              "\n",
              "      [theme=dark] .colab-df-generate {\n",
              "        background-color: #3B4455;\n",
              "        fill: #D2E3FC;\n",
              "      }\n",
              "\n",
              "      [theme=dark] .colab-df-generate:hover {\n",
              "        background-color: #434B5C;\n",
              "        box-shadow: 0px 1px 3px 1px rgba(0, 0, 0, 0.15);\n",
              "        filter: drop-shadow(0px 1px 2px rgba(0, 0, 0, 0.3));\n",
              "        fill: #FFFFFF;\n",
              "      }\n",
              "    </style>\n",
              "    <button class=\"colab-df-generate\" onclick=\"generateWithVariable('df')\"\n",
              "            title=\"Generate code using this dataframe.\"\n",
              "            style=\"display:none;\">\n",
              "\n",
              "  <svg xmlns=\"http://www.w3.org/2000/svg\" height=\"24px\"viewBox=\"0 0 24 24\"\n",
              "       width=\"24px\">\n",
              "    <path d=\"M7,19H8.4L18.45,9,17,7.55,7,17.6ZM5,21V16.75L18.45,3.32a2,2,0,0,1,2.83,0l1.4,1.43a1.91,1.91,0,0,1,.58,1.4,1.91,1.91,0,0,1-.58,1.4L9.25,21ZM18.45,9,17,7.55Zm-12,3A5.31,5.31,0,0,0,4.9,8.1,5.31,5.31,0,0,0,1,6.5,5.31,5.31,0,0,0,4.9,4.9,5.31,5.31,0,0,0,6.5,1,5.31,5.31,0,0,0,8.1,4.9,5.31,5.31,0,0,0,12,6.5,5.46,5.46,0,0,0,6.5,12Z\"/>\n",
              "  </svg>\n",
              "    </button>\n",
              "    <script>\n",
              "      (() => {\n",
              "      const buttonEl =\n",
              "        document.querySelector('#id_5f1dd937-3777-4ff3-894e-1b9a056fc5ac button.colab-df-generate');\n",
              "      buttonEl.style.display =\n",
              "        google.colab.kernel.accessAllowed ? 'block' : 'none';\n",
              "\n",
              "      buttonEl.onclick = () => {\n",
              "        google.colab.notebook.generateWithVariable('df');\n",
              "      }\n",
              "      })();\n",
              "    </script>\n",
              "  </div>\n",
              "\n",
              "    </div>\n",
              "  </div>\n"
            ],
            "application/vnd.google.colaboratory.intrinsic+json": {
              "type": "dataframe",
              "variable_name": "df"
            }
          },
          "metadata": {},
          "execution_count": 79
        }
      ]
    },
    {
      "cell_type": "code",
      "source": [
        "import re\n",
        "\n",
        "def clean_text(text):\n",
        "    clean_txt = text.lower()\n",
        "    # Clear characters other than numbers and letters of the alphabet only\n",
        "    clean_txt = re.sub(r'[^0-9a-zçğıiöşü\\s]', '', clean_txt,\n",
        "                       flags=re.IGNORECASE)\n",
        "\n",
        "    return ' '.join(sorted(clean_txt.split()))\n",
        "\n",
        "cleaned_texts = feature_names\n",
        "from sklearn.feature_extraction.text import TfidfVectorizer\n",
        "\n",
        "vectorizer = TfidfVectorizer()\n",
        "tfidf_matrix = vectorizer.fit_transform(cleaned_texts)\n",
        "from wordcloud import WordCloud\n",
        "import matplotlib.pyplot as plt\n",
        "\n",
        "wordcloud = WordCloud(width=800, height=400, background_color='white').generate_from_frequencies(vectorizer.vocabulary_)\n",
        "\n",
        "plt.figure(figsize=(10, 5))\n",
        "plt.imshow(wordcloud, interpolation='bilinear')\n",
        "plt.axis('off')\n",
        "plt.show()"
      ],
      "metadata": {
        "colab": {
          "base_uri": "https://localhost:8080/",
          "height": 442
        },
        "id": "iX96y1gEZxFv",
        "outputId": "7672067d-c77b-4857-b003-17e12f88095b"
      },
      "execution_count": 80,
      "outputs": [
        {
          "output_type": "display_data",
          "data": {
            "text/plain": [
              "<Figure size 1000x500 with 1 Axes>"
            ],
            "image/png": "[encoded data removed]"
          },
          "metadata": {}
        }
      ]
    },
    {
      "cell_type": "code",
      "source": [
        "import nltk\n",
        "from sklearn.preprocessing import OneHotEncoder\n",
        "import numpy as np\n",
        "\n",
        "nltk.download('punkt')\n",
        "tokenized_corpus = [nltk.word_tokenize(sentence.lower()) for sentence in corpus]\n",
        "all_words = [word for sentence in tokenized_corpus for word in sentence]\n",
        "vocab = sorted(set(all_words))\n",
        "print(\"Vocabulary:\", vocab)\n",
        "word_array = np.array(all_words).reshape(-1, 1)\n",
        "one_hot_encoder = OneHotEncoder(sparse_output=False)\n",
        "one_hot_encoded = one_hot_encoder.fit_transform(word_array)\n",
        "print(\"One-hot encoded matrix:\\n\", one_hot_encoded)"
      ],
      "metadata": {
        "colab": {
          "base_uri": "https://localhost:8080/"
        },
        "id": "pBuEUZcfaiaV",
        "outputId": "cf07ecb5-a474-4f1f-af4a-0c9c7fb646ef"
      },
      "execution_count": 81,
      "outputs": [
        {
          "output_type": "stream",
          "name": "stdout",
          "text": [
            "Vocabulary: ['a', 'aamir', 'actor', 'always', 'are', 'be', 'bring', 'cant', 'check', 'click', 'created', 'download', 'essay', 'everywhere', 'first', 'god', 'has', 'he', 'here', 'home', 'in', 'is', 'khan', 'major', 'most', 'mother', 'mothers', 'movie', 'my', 'notebook', 'on', 'one', 'our', 'out', 'parents', 'people', 'person', 'plays', 'rightly', 'role', 'said', 'school', 'selfless', 'so', 'someone', 'teacher', 'that', 'the', 'to', 'upbringing', 'us', 'who', 'world']\n",
            "One-hot encoded matrix:\n",
            " [[0. 0. 0. ... 0. 0. 0.]\n",
            " [0. 0. 0. ... 0. 0. 0.]\n",
            " [0. 0. 0. ... 0. 0. 0.]\n",
            " ...\n",
            " [0. 0. 0. ... 0. 0. 0.]\n",
            " [0. 0. 0. ... 0. 0. 0.]\n",
            " [0. 0. 0. ... 0. 0. 0.]]\n"
          ]
        },
        {
          "output_type": "stream",
          "name": "stderr",
          "text": [
            "[nltk_data] Downloading package punkt to /root/nltk_data...\n",
            "[nltk_data]   Package punkt is already up-to-date!\n"
          ]
        }
      ]
    },
    {
      "cell_type": "code",
      "source": [
        "print(token3)"
      ],
      "metadata": {
        "colab": {
          "base_uri": "https://localhost:8080/"
        },
        "id": "-Lqgd8ZKbvZV",
        "outputId": "5d7106b7-c256-45ad-aee2-79637eabdef1"
      },
      "execution_count": 90,
      "outputs": [
        {
          "output_type": "stream",
          "name": "stdout",
          "text": [
            "['Essay', 'on', 'My', 'Mother', 'Someone', 'has', 'rightly', 'said', 'that', 'God', 'cant', 'be', 'everywhere', 'so', 'he', 'created', 'Mothers', 'A', 'mother', 'is', 'the', 'first', 'home', 'the', 'first', 'person', 'to', 'bring', 'us', 'to', 'the', 'world', 'Our', 'parents', 'are', 'the', 'most', 'selfless', 'people', 'in', 'the', 'world', 'In', 'the', 'first', 'school', 'the', 'first', 'teacher', 'is', 'always', 'a', 'mother', 'who', 'is', 'the', 'one', 'who', 'plays', 'a', 'major', 'role', 'in', 'our', 'upbringing', 'Movie', '1', 'Actor', 'Aamir', 'Khan', 'Click', 'here', 'to', 'download', 'Check', 'out', 'my', 'notebook']\n"
          ]
        }
      ]
    },
    {
      "cell_type": "code",
      "source": [
        "#source : https://www.kaggle.com/code/abdmental01/text-preprocessing-nlp-steps-to-process-text"
      ],
      "metadata": {
        "id": "iUDIaN2tgZ5I"
      },
      "execution_count": null,
      "outputs": []
    },
    {
      "cell_type": "code",
      "source": [
        "import gensim\n",
        "from gensim.models import Word2Vec\n",
        "sentences=[['essay', 'on', 'my', 'mother'],\n",
        "           ['someone', 'has', 'rightly', 'said', 'that', 'god', 'cant', 'be', 'everywhere', 'so', 'he', 'created', 'mothers'],\n",
        "           [ 'a', 'mother', 'is', 'the', 'first', 'home', 'the', 'first', 'person', 'to', 'bring', 'us', 'to', 'the', 'world'],\n",
        "           ['our', 'parents', 'are', 'the', 'most', 'selfless', 'people', 'in', 'the', 'world'],\n",
        "           ['in', 'the', 'first', 'school', 'the', 'first', 'teacher', 'is', 'always', 'a', 'mother', 'who', 'is', 'the', 'one', 'who', 'plays', 'a', 'major', 'role', 'in', 'our', 'upbringing'],\n",
        "           ['movie', '1', 'actor', 'aamir', 'khan'],\n",
        "           ['click', 'here', 'to', 'download'],\n",
        "           ['check', 'out', 'my', 'notebook']\n",
        "           ]\n",
        "\n",
        "cbow_model = Word2Vec(sentences, vector_size=100, window=5, min_count=1, sg=0, alpha=0.03, min_alpha=0.0007, epochs=100)\n",
        "skipgram_model = Word2Vec(sentences, vector_size=100, window=5, min_count=1, sg=1, alpha=0.03, min_alpha=0.0007, epochs=100)\n",
        "\n",
        "cbow_model.train(sentences, total_examples=len(sentences), epochs=100)\n",
        "skipgram_model.train(sentences, total_examples=len(sentences), epochs=100)\n",
        "\n",
        "word_vectors_cbow = cbow_model.wv\n",
        "similarity_cbow = word_vectors_cbow.similarity('mother', 'my')\n",
        "print(f\"Similarity between 'word2vec' and 'gensim': {similarity_cbow} with CBOW\")\n",
        "\n",
        "\n",
        "word_vectors_skipgram= skipgram_model.wv\n",
        "similarity_skip = word_vectors_skipgram.similarity('mother', 'my')\n",
        "print(f\"Similarity between 'mother' and 'my': {similarity_skip} with Skip-Gram\")"
      ],
      "metadata": {
        "colab": {
          "base_uri": "https://localhost:8080/"
        },
        "id": "YWNalyiQbHGl",
        "outputId": "46ad216f-418e-4c40-f02a-3eeaa669fdaf"
      },
      "execution_count": 88,
      "outputs": [
        {
          "output_type": "stream",
          "name": "stderr",
          "text": [
            "WARNING:gensim.models.word2vec:Effective 'alpha' higher than previous training cycles\n",
            "WARNING:gensim.models.word2vec:Effective 'alpha' higher than previous training cycles\n"
          ]
        },
        {
          "output_type": "stream",
          "name": "stdout",
          "text": [
            "Similarity between 'word2vec' and 'gensim': 0.9041518568992615 with CBOW\n",
            "Similarity between 'mother' and 'my': 0.9949679374694824 with Skip-Gram\n"
          ]
        }
      ]
    },
    {
      "cell_type": "code",
      "source": [],
      "metadata": {
        "id": "qMeAPMEFgYjv"
      },
      "execution_count": null,
      "outputs": []
    },
    {
      "cell_type": "code",
      "source": [],
      "metadata": {
        "id": "fWoUbVovfy5S"
      },
      "execution_count": null,
      "outputs": []
    }
  ]
}